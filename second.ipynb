{
 "cells": [
  {
   "cell_type": "code",
   "execution_count": 2,
   "id": "b6ccf488-fb2b-4090-80fc-ddc2f8e7f72f",
   "metadata": {},
   "outputs": [
    {
     "name": "stdout",
     "output_type": "stream",
     "text": [
      "tax: 0\n"
     ]
    }
   ],
   "source": [
    "import pandas as pd\n",
    "import json\n",
    "\n",
    "# خواندن فایل اکسل\n",
    "df = pd.read_excel(\"test.xlsx\", header=None)\n",
    "\n",
    "# ایجاد لیست کارشناسان\n",
    "agents = []\n",
    "agents.append(df.iloc[0, 2])  # اولین کارشناس در سطر اول قرار دارد\n",
    "for i in range(len(df)): # اضافه کردن سایر کارشناسان موجود در فایل\n",
    "    if df.iloc[i].isnull().all() and df.iloc[i+1].isnull().all() and not df.iloc[i+2].isnull().all():\n",
    "        agents.append(df.iloc[i+2, 2])\n",
    "result= {agent:0 for agent in agents} #مقدار دهی اولیه به تعداد درخواست کارشناس\n",
    "current_agent = None\n",
    "for i in range(len(df)):\n",
    "    if df.iloc[i].isnull().all():\n",
    "        continue\n",
    "    if df.iloc[i,2] in agents:\n",
    "        current_agent=df.iloc[i,2]\n",
    "    elif current_agent and df.iloc[i,1]==\"فراموشی ثبت تردد\" and df.iloc[i,4] == \"تایید\":\n",
    "        result[current_agent]+=1\n",
    "\n",
    "\"\"\"print(result)\"\"\"\n",
    "for agent,count in result.items():\n",
    "    print(f\"{agent}: {count}\")\n"
   ]
  },
  {
   "cell_type": "code",
   "execution_count": null,
   "id": "1e2a6f24-bdc6-489c-ba71-0c29e8ac7209",
   "metadata": {},
   "outputs": [],
   "source": []
  }
 ],
 "metadata": {
  "kernelspec": {
   "display_name": "Python 3 (ipykernel)",
   "language": "python",
   "name": "python3"
  },
  "language_info": {
   "codemirror_mode": {
    "name": "ipython",
    "version": 3
   },
   "file_extension": ".py",
   "mimetype": "text/x-python",
   "name": "python",
   "nbconvert_exporter": "python",
   "pygments_lexer": "ipython3",
   "version": "3.12.6"
  }
 },
 "nbformat": 4,
 "nbformat_minor": 5
}
