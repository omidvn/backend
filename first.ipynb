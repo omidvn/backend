{
 "cells": [
  {
   "cell_type": "code",
   "execution_count": 21,
   "id": "b6ccf488-fb2b-4090-80fc-ddc2f8e7f72f",
   "metadata": {},
   "outputs": [
    {
     "name": "stdout",
     "output_type": "stream",
     "text": [
      "پیمان دهقانی اشکذری: 6\n",
      "محدثه حسن زاده: 4\n",
      "آیناز خرازی: 0\n",
      "رضا یوسفی: 4\n",
      "نسرین رجبی پیره: 0\n",
      "حسین عزیزی: 4\n",
      "حمید هیبدی: 3\n",
      "فاطمه آقاحسینی: 0\n",
      "فاطمه زهرا ستوده: 1\n",
      "مهلا محبی: 0\n",
      "سعید ملکی: 0\n",
      "فرناز متین نیا: 0\n",
      "فاطمه بهبهانی: 2\n",
      "پارسا ولی بیگ: 3\n",
      "گلسا قماشی: 0\n",
      "مرجان کاظم بخشی: 0\n",
      "سپهر زینال زاده حاجلاری: 0\n",
      "رضا لکزائی: 0\n",
      "زهرا بیات ناصری: 4\n",
      "مائده برمک راد: 1\n",
      "دریا اسکندری: 10\n",
      "فاطمه صفری: 6\n",
      "محمد بهاری: 0\n",
      "محمد اکبری: 2\n",
      "آیگین صدیق: 0\n",
      "سبحان روزبهی: 7\n",
      "هانیه السادات کمالی فر: 2\n",
      "زینب عزیزی: 4\n",
      "محمد تصرفی: 3\n",
      "یاسمن فتاحی نودهی: 0\n",
      "آزاده علی پور: 3\n",
      "احسان غفراللهی: 4\n",
      "منیره نصیرپور: 3\n",
      "مریم محبوبی: 5\n",
      "سیده پریسا حسینی اوجاکی: 0\n"
     ]
    }
   ],
   "source": [
    "import pandas as pd\n",
    "import json\n",
    "\n",
    "# خواندن فایل اکسل\n",
    "df = pd.read_excel(\"abc.xlsx\", header=None)\n",
    "\n",
    "# ایجاد لیست کارشناسان\n",
    "agents = []\n",
    "agents.append(df.iloc[0, 2])  # اولین کارشناس در سطر اول قرار دارد\n",
    "for i in range(len(df)): # اضافه کردن سایر کارشناسان موجود در فایل\n",
    "    if df.iloc[i].isnull().all() and df.iloc[i+1].isnull().all() and not df.iloc[i+2].isnull().all():\n",
    "        agents.append(df.iloc[i+2, 2])\n",
    "result= {agent:0 for agent in agents} #مقدار دهی اولیه به تعداد درخواست کارشناس\n",
    "current_agent = None\n",
    "for i in range(len(df)):\n",
    "    if df.iloc[i].isnull().all():\n",
    "        continue\n",
    "    if df.iloc[i,2] in agents:\n",
    "        current_agent=df.iloc[i,2]\n",
    "    elif current_agent and df.iloc[i,1]==\"فراموشی ثبت تردد\" and df.iloc[i,4] == \"تایید\":\n",
    "        result[current_agent]+=1\n",
    "\n",
    "\"\"\"print(result)\"\"\"\n",
    "for agent,count in result.items():\n",
    "    print(f\"{agent}: {count}\")\n"
   ]
  },
  {
   "cell_type": "code",
   "execution_count": null,
   "id": "1e2a6f24-bdc6-489c-ba71-0c29e8ac7209",
   "metadata": {},
   "outputs": [],
   "source": []
  }
 ],
 "metadata": {
  "kernelspec": {
   "display_name": "Python 3 (ipykernel)",
   "language": "python",
   "name": "python3"
  },
  "language_info": {
   "codemirror_mode": {
    "name": "ipython",
    "version": 3
   },
   "file_extension": ".py",
   "mimetype": "text/x-python",
   "name": "python",
   "nbconvert_exporter": "python",
   "pygments_lexer": "ipython3",
   "version": "3.12.6"
  }
 },
 "nbformat": 4,
 "nbformat_minor": 5
}
